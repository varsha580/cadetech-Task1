{
 "cells": [
  {
   "cell_type": "code",
   "execution_count": 3,
   "id": "c40b6d72-fed0-49ba-ba91-b55904f78302",
   "metadata": {},
   "outputs": [
    {
     "name": "stdin",
     "output_type": "stream",
     "text": [
      "Enter the path to the dataset file (e.g., data/dataset.csv):  diabetes.csv\n",
      "Enter the name of the target column:  Outcome\n",
      "Enter the output path to save the processed data (e.g., data/):  ETL_Finished\n"
     ]
    },
    {
     "name": "stdout",
     "output_type": "stream",
     "text": [
      "ETL process completed successfully!\n"
     ]
    }
   ],
   "source": [
    "import pandas as pd\n",
    "from sklearn.model_selection import train_test_split\n",
    "from sklearn.preprocessing import StandardScaler, OneHotEncoder\n",
    "from sklearn.compose import ColumnTransformer\n",
    "from sklearn.pipeline import Pipeline\n",
    "from sklearn.impute import SimpleImputer\n",
    "\n",
    "def load_data(file_path):\n",
    "    \"\"\"Load data from a CSV file.\"\"\"\n",
    "    return pd.read_csv(file_path)\n",
    "\n",
    "def preprocess_data(df, target_column):\n",
    "    \"\"\"Preprocess the dataset.\"\"\"\n",
    "    # Separate features and target\n",
    "    X = df.drop(target_column, axis=1)\n",
    "    y = df[target_column]\n",
    "    \n",
    "    # Identify numerical and categorical columns\n",
    "    numerical_cols = X.select_dtypes(include=['int64', 'float64']).columns\n",
    "    categorical_cols = X.select_dtypes(include=['object']).columns\n",
    "    \n",
    "    # Preprocessing for numerical data\n",
    "    numerical_transformer = Pipeline(steps=[\n",
    "        ('imputer', SimpleImputer(strategy='mean')),\n",
    "        ('scaler', StandardScaler())\n",
    "    ])\n",
    "    \n",
    "    # Preprocessing for categorical data\n",
    "    categorical_transformer = Pipeline(steps=[\n",
    "        ('imputer', SimpleImputer(strategy='most_frequent')),\n",
    "        ('onehot', OneHotEncoder(handle_unknown='ignore'))\n",
    "    ])\n",
    "    \n",
    "    # Bundle preprocessing for numerical and categorical data\n",
    "    preprocessor = ColumnTransformer(\n",
    "        transformers=[\n",
    "            ('num', numerical_transformer, numerical_cols),\n",
    "            ('cat', categorical_transformer, categorical_cols)\n",
    "        ])\n",
    "    \n",
    "    # Create and return the preprocessing pipeline\n",
    "    return preprocessor, X, y\n",
    "\n",
    "def transform_data(preprocessor, X):\n",
    "    \"\"\"Transform the dataset using the preprocessor.\"\"\"\n",
    "    return preprocessor.fit_transform(X)\n",
    "\n",
    "def split_data(X, y):\n",
    "    \"\"\"Split the dataset into training and testing sets.\"\"\"\n",
    "    return train_test_split(X, y, test_size=0.2, random_state=42)\n",
    "\n",
    "def main():\n",
    "    # Request user input for file paths and columns\n",
    "    file_path = input(\"Enter the path to the dataset file (e.g., data/dataset.csv): \")\n",
    "    target_column = input(\"Enter the name of the target column: \")\n",
    "    output_path = input(\"Enter the output path to save the processed data (e.g., data/): \")\n",
    "    \n",
    "    # Load the dataset\n",
    "    df = load_data(file_path)\n",
    "    \n",
    "    # Preprocess the data\n",
    "    preprocessor, X, y = preprocess_data(df, target_column)\n",
    "    \n",
    "    # Transform the data\n",
    "    X_transformed = transform_data(preprocessor, X)\n",
    "    \n",
    "    # Split the data into training and testing sets\n",
    "    X_train, X_test, y_train, y_test = split_data(X_transformed, y)\n",
    "    \n",
    "    # Save the preprocessed and transformed data\n",
    "    pd.DataFrame(X_train).to_csv(output_path + 'X_train.csv', index=False)\n",
    "    pd.DataFrame(X_test).to_csv(output_path + 'X_test.csv', index=False)\n",
    "    pd.DataFrame(y_train).to_csv(output_path + 'y_train.csv', index=False)\n",
    "    pd.DataFrame(y_test).to_csv(output_path + 'y_test.csv', index=False)\n",
    "    \n",
    "    print(\"ETL process completed successfully!\")\n",
    "\n",
    "if __name__ == \"__main__\":\n",
    "    main()"
   ]
  },
  {
   "cell_type": "code",
   "execution_count": null,
   "id": "fd364346-6885-4e43-84d2-54291f9b0de9",
   "metadata": {},
   "outputs": [],
   "source": []
  }
 ],
 "metadata": {
  "kernelspec": {
   "display_name": "Python 3 (ipykernel)",
   "language": "python",
   "name": "python3"
  },
  "language_info": {
   "codemirror_mode": {
    "name": "ipython",
    "version": 3
   },
   "file_extension": ".py",
   "mimetype": "text/x-python",
   "name": "python",
   "nbconvert_exporter": "python",
   "pygments_lexer": "ipython3",
   "version": "3.12.5"
  },
  "widgets": {
   "application/vnd.jupyter.widget-state+json": {
    "state": {},
    "version_major": 2,
    "version_minor": 0
   }
  }
 },
 "nbformat": 4,
 "nbformat_minor": 5
}
